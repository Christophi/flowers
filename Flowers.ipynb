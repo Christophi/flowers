{
 "cells": [
  {
   "cell_type": "markdown",
   "metadata": {},
   "source": [
    "# Load data"
   ]
  },
  {
   "cell_type": "code",
   "execution_count": 1,
   "metadata": {},
   "outputs": [
    {
     "name": "stdout",
     "output_type": "stream",
     "text": [
      "daisy\n"
     ]
    },
    {
     "data": {
      "text/plain": [
       "<Figure size 640x480 with 1 Axes>"
      ]
     },
     "metadata": {},
     "output_type": "display_data"
    }
   ],
   "source": [
    "import numpy as np\n",
    "import matplotlib.pyplot as plt\n",
    "import os\n",
    "import cv2\n",
    "\n",
    "DATADIR = r\"C:\\Users\\Chris\\Desktop\\flowers\"\n",
    "CATEGORIES = [\"daisy\",\"dandelion\",\"rose\",\"sunflower\",\"tulip\"]\n",
    "\n",
    "for category in CATEGORIES:\n",
    "    path = os.path.join(DATADIR, category) # path to cats or dogs directory\n",
    "    print(category)\n",
    "    for img in os.listdir(path):\n",
    "        img_array = cv2.imread(os.path.join(path, img), cv2.IMREAD_GRAYSCALE)\n",
    "        plt.imshow(img_array, cmap=\"gray\")\n",
    "        plt.show()\n",
    "        break\n",
    "    break\n",
    "    \n"
   ]
  },
  {
   "cell_type": "code",
   "execution_count": 2,
   "metadata": {},
   "outputs": [
    {
     "data": {
      "image/png": "[encoded data removed]",
      "text/plain": [
       "<Figure size 432x288 with 1 Axes>"
      ]
     },
     "metadata": {},
     "output_type": "display_data"
    },
    {
     "name": "stdout",
     "output_type": "stream",
     "text": [
      "(50, 50)\n"
     ]
    }
   ],
   "source": [
    "import cv2\n",
    "\n",
    "IMG_SIZE = 50\n",
    "resize = cv2.resize(img_array, (IMG_SIZE, IMG_SIZE))\n",
    "plt.imshow(resize, cmap='gray')\n",
    "plt.show()\n",
    "print(resize.shape)"
   ]
  },
  {
   "cell_type": "code",
   "execution_count": 3,
   "metadata": {},
   "outputs": [],
   "source": [
    "training_data = []\n",
    "\n",
    "def create_training_data():\n",
    "    for category in CATEGORIES:\n",
    "        path = os.path.join(DATADIR, category)# path to different shape directory\n",
    "        class_num = CATEGORIES.index(category)\n",
    "        for img in os.listdir(path):\n",
    "            try:\n",
    "                img_array = cv2.imread(os.path.join(path, img), cv2.IMREAD_GRAYSCALE)\n",
    "                new_array = cv2.resize(img_array, (IMG_SIZE, IMG_SIZE))\n",
    "                training_data.append([new_array,class_num])\n",
    "            except Exception as e:\n",
    "                pass\n",
    "\n",
    "create_training_data();"
   ]
  },
  {
   "cell_type": "code",
   "execution_count": 4,
   "metadata": {},
   "outputs": [
    {
     "name": "stdout",
     "output_type": "stream",
     "text": [
      "4323\n"
     ]
    }
   ],
   "source": [
    "print(len(training_data))"
   ]
  },
  {
   "cell_type": "code",
   "execution_count": 5,
   "metadata": {},
   "outputs": [],
   "source": [
    "import random\n",
    "random.shuffle(training_data)"
   ]
  },
  {
   "cell_type": "code",
   "execution_count": 6,
   "metadata": {},
   "outputs": [],
   "source": [
    "X = []\n",
    "y = []"
   ]
  },
  {
   "cell_type": "code",
   "execution_count": 7,
   "metadata": {},
   "outputs": [
    {
     "name": "stdout",
     "output_type": "stream",
     "text": [
      "[[205 229 232 ... 133 116   1]\n",
      " [204 220 236 ... 116  17   5]\n",
      " [198 130 137 ... 105   6   4]\n",
      " ...\n",
      " [206 143  32 ... 108  98 150]\n",
      " [211  44 119 ...  59  53  90]\n",
      " [ 24  79  95 ... 100  26  53]] 2\n",
      "[[ 6  4  4 ...  3 24  4]\n",
      " [ 6  6  5 ...  5 17  4]\n",
      " [ 8  6  4 ...  4  4  5]\n",
      " ...\n",
      " [ 3  3  3 ...  2  3  6]\n",
      " [ 9  5  4 ...  4  3  3]\n",
      " [16 30 17 ...  5  4  3]] 0\n",
      "[[ 52  49  58 ...  10   9   8]\n",
      " [ 64  68  70 ...  11   7   1]\n",
      " [ 85  88  69 ...  12   7   2]\n",
      " ...\n",
      " [124 146  15 ...  17  19  16]\n",
      " [ 41 142  20 ...  14  16  16]\n",
      " [ 81 128  69 ...  11  20  36]] 4\n",
      "[[ 39 156   4 ...   8  13   8]\n",
      " [ 60 109   2 ...  18  20  12]\n",
      " [134  21   1 ...  20  12  13]\n",
      " ...\n",
      " [ 93  95  99 ...  33  73  81]\n",
      " [126  86 117 ...  52  93 113]\n",
      " [ 94  73  71 ...  72 123 123]] 2\n",
      "[[0 0 0 ... 1 1 1]\n",
      " [0 0 0 ... 2 0 1]\n",
      " [0 0 0 ... 1 1 1]\n",
      " ...\n",
      " [0 0 0 ... 0 0 0]\n",
      " [0 0 0 ... 0 0 0]\n",
      " [0 0 0 ... 0 0 0]] 2\n"
     ]
    }
   ],
   "source": [
    "for sample in training_data[:5]:\n",
    "    print(sample[0], sample[1])"
   ]
  },
  {
   "cell_type": "code",
   "execution_count": 8,
   "metadata": {
    "scrolled": true
   },
   "outputs": [],
   "source": [
    "for features,label in training_data:\n",
    "    X.append(features);\n",
    "    y.append(label);"
   ]
  },
  {
   "cell_type": "code",
   "execution_count": 9,
   "metadata": {},
   "outputs": [],
   "source": [
    "# Reshape data \n",
    "X = np.array(X).reshape(-1, IMG_SIZE, IMG_SIZE, 1)"
   ]
  },
  {
   "cell_type": "code",
   "execution_count": 10,
   "metadata": {},
   "outputs": [],
   "source": [
    "# Normalize features (y is fine as a list)\n",
    "X = X / 255;"
   ]
  },
  {
   "cell_type": "code",
   "execution_count": 11,
   "metadata": {},
   "outputs": [
    {
     "name": "stderr",
     "output_type": "stream",
     "text": [
      "C:\\Users\\Chris\\Anaconda3\\lib\\site-packages\\h5py\\__init__.py:36: FutureWarning: Conversion of the second argument of issubdtype from `float` to `np.floating` is deprecated. In future, it will be treated as `np.float64 == np.dtype(float).type`.\n",
      "  from ._conv import register_converters as _register_converters\n",
      "Using TensorFlow backend.\n"
     ]
    },
    {
     "data": {
      "text/plain": [
       "(4323, 5)"
      ]
     },
     "execution_count": 11,
     "metadata": {},
     "output_type": "execute_result"
    }
   ],
   "source": [
    "import keras\n",
    "y = keras.utils.to_categorical(y, num_classes=5)\n",
    "y.shape"
   ]
  },
  {
   "cell_type": "code",
   "execution_count": 12,
   "metadata": {},
   "outputs": [],
   "source": [
    "from sklearn.model_selection import train_test_split\n",
    "x_train, x_test, y_train, y_test = train_test_split(X,y, test_size=0.1)"
   ]
  },
  {
   "cell_type": "markdown",
   "metadata": {},
   "source": [
    "# Model"
   ]
  },
  {
   "cell_type": "code",
   "execution_count": 14,
   "metadata": {},
   "outputs": [
    {
     "name": "stdout",
     "output_type": "stream",
     "text": [
      "Train on 3501 samples, validate on 389 samples\n",
      "Epoch 1/5\n",
      " - 5s - loss: 1.5863 - acc: 0.2531 - val_loss: 1.5429 - val_acc: 0.3033\n",
      "Epoch 2/5\n",
      " - 5s - loss: 1.5246 - acc: 0.3071 - val_loss: 1.4961 - val_acc: 0.3316\n",
      "Epoch 3/5\n",
      " - 5s - loss: 1.4851 - acc: 0.3430 - val_loss: 1.5004 - val_acc: 0.3316\n",
      "Epoch 4/5\n",
      " - 5s - loss: 1.4579 - acc: 0.3610 - val_loss: 1.4832 - val_acc: 0.3445\n",
      "Epoch 5/5\n",
      " - 5s - loss: 1.4085 - acc: 0.4047 - val_loss: 1.4411 - val_acc: 0.4010\n"
     ]
    }
   ],
   "source": [
    "import tensorflow as tf\n",
    "from tensorflow.keras.models import Sequential\n",
    "from tensorflow.keras.layers import Dense, Activation, Flatten, Conv2D, MaxPooling2D\n",
    "\n",
    "\n",
    "# Build model\n",
    "model = Sequential()\n",
    "\n",
    "model.add(Conv2D(64,(10,10), input_shape=x_train.shape[1:]))\n",
    "model.add(Activation(\"relu\"))\n",
    "model.add(MaxPooling2D(pool_size=(5,5)))\n",
    "\n",
    "model.add(Flatten())\n",
    "model.add(Dense(64))\n",
    "model.add(Activation(\"relu\"))\n",
    "\n",
    "model.add(Dense(5))\n",
    "model.add(Activation('softmax')) \n",
    "\n",
    "model.compile(loss=\"categorical_crossentropy\",\n",
    "             optimizer=\"adam\",\n",
    "             metrics=['accuracy'])\n",
    "\n",
    "fit = model.fit(x_train,\n",
    "          y_train, \n",
    "          batch_size=32, \n",
    "          shuffle=True, \n",
    "          epochs=5, \n",
    "          validation_split=0.1,\n",
    "          verbose=2)"
   ]
  },
  {
   "cell_type": "code",
   "execution_count": 15,
   "metadata": {},
   "outputs": [
    {
     "name": "stdout",
     "output_type": "stream",
     "text": [
      "433/433 [==============================] - 0s 613us/step\n",
      "Loss: [1.3976706500416816, 0.4110854503808341]\n"
     ]
    }
   ],
   "source": [
    "# Evaluate Model\n",
    "evaluate = model.evaluate(x_test, \n",
    "               y_test, \n",
    "               batch_size=32, \n",
    "               verbose=1 )\n",
    "print(\"Loss:\", evaluate)"
   ]
  },
  {
   "cell_type": "code",
   "execution_count": 19,
   "metadata": {
    "scrolled": true
   },
   "outputs": [
    {
     "name": "stdout",
     "output_type": "stream",
     "text": [
      "433/433 [==============================] - 0s 597us/step\n",
      "[4 4 4 0 4 1 0 0 3 3 3 1 4 0 1 3 0 1 1 4 3 4 4 4 1 0 0 1 0 3 4 3 0 4 0 3 3\n",
      " 4 3 4 2 1 1 2 1 4 4 2 3 1 1 0 0 1 4 3 3 3 4 0 4 1 1 3 4 3 1 1 4 1 4 0 1 4\n",
      " 4 0 4 4 3 0 4 2 1 1 4 1 4 0 4 1 3 1 0 3 2 4 2 2 4 2 3 0 3 1 4 0 3 1 4 0 1\n",
      " 4 0 1 3 4 1 4 0 4 1 3 2 4 1 4 4 0 0 0 3 1 4 3 4 3 1 0 1 0 3 0 3 1 1 4 1 4\n",
      " 3 3 1 2 4 0 3 4 1 4 0 0 4 0 4 0 4 0 4 0 3 0 1 0 1 0 0 4 3 3 4 3 4 4 0 4 3\n",
      " 3 0 1 4 3 4 1 4 3 0 1 3 3 0 2 0 4 4 1 1 4 1 0 3 4 4 4 4 1 4 1 4 4 0 0 4 4\n",
      " 3 1 1 1 0 0 3 1 3 3 2 4 0 0 0 1 3 4 1 4 0 1 4 0 0 4 4 3 4 0 0 0 3 3 0 1 4\n",
      " 1 1 4 0 4 0 0 3 4 4 0 1 1 0 0 1 3 4 1 4 3 0 4 1 0 3 4 3 2 0 2 0 4 4 3 4 1\n",
      " 1 4 0 0 3 1 0 3 1 3 0 4 1 1 4 4 3 1 1 0 0 0 0 3 0 4 1 1 4 1 1 0 3 1 2 4 0\n",
      " 4 1 3 1 0 1 3 0 1 1 0 1 0 4 0 4 3 0 2 3 4 4 1 3 3 1 1 3 3 4 4 0 1 4 3 3 0\n",
      " 3 0 2 0 4 3 3 1 1 4 4 3 4 1 3 3 1 3 3 1 3 3 3 2 3 4 4 0 4 1 4 0 4 3 0 1 0\n",
      " 1 3 3 2 3 0 3 4 4 1 3 1 3 1 0 4 1 0 1 4 0 1 4 0 1 1] [[0. 0. 0. 1. 0.]\n",
      " [0. 0. 0. 0. 1.]\n",
      " [1. 0. 0. 0. 0.]\n",
      " ...\n",
      " [0. 0. 1. 0. 0.]\n",
      " [0. 0. 1. 0. 0.]\n",
      " [0. 0. 1. 0. 0.]]\n"
     ]
    }
   ],
   "source": [
    "# Predict classes using test data\n",
    "model.predict_classes(x_test, \n",
    "                      batch_size=32, \n",
    "                      verbose=1)\n"
   ]
  },
  {
   "cell_type": "code",
   "execution_count": null,
   "metadata": {},
   "outputs": [],
   "source": []
  }
 ],
 "metadata": {
  "kernelspec": {
   "display_name": "Python 3",
   "language": "python",
   "name": "python3"
  },
  "language_info": {
   "codemirror_mode": {
    "name": "ipython",
    "version": 3
   },
   "file_extension": ".py",
   "mimetype": "text/x-python",
   "name": "python",
   "nbconvert_exporter": "python",
   "pygments_lexer": "ipython3",
   "version": "3.6.5"
  }
 },
 "nbformat": 4,
 "nbformat_minor": 2
}
